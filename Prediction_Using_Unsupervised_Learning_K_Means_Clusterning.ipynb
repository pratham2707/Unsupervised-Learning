{
 "cells": [
  {
   "cell_type": "markdown",
   "id": "23ffe09c",
   "metadata": {},
   "source": [
    "Pratham Javalkoti.\n",
    "\n",
    "Problem Statement: To find the optimal number of clusters of an Iris Dataset and to represent them visually."
   ]
  },
  {
   "cell_type": "markdown",
   "id": "0922e3bf",
   "metadata": {},
   "source": [
    "# Step 1: Importing all the necessary libraries."
   ]
  },
  {
   "cell_type": "code",
   "execution_count": 1,
   "id": "ee9bb7ab",
   "metadata": {},
   "outputs": [],
   "source": [
    "import pandas\n",
    "import numpy\n",
    "import matplotlib.pyplot\n",
    "import sklearn"
   ]
  },
  {
   "cell_type": "markdown",
   "id": "53091daf",
   "metadata": {},
   "source": [
    "# Step 2: Creating the dataframe."
   ]
  },
  {
   "cell_type": "code",
   "execution_count": 2,
   "id": "b3604f06",
   "metadata": {},
   "outputs": [
    {
     "name": "stdout",
     "output_type": "stream",
     "text": [
      "Dataframe Created.\n"
     ]
    },
    {
     "data": {
      "text/html": [
       "<div>\n",
       "<style scoped>\n",
       "    .dataframe tbody tr th:only-of-type {\n",
       "        vertical-align: middle;\n",
       "    }\n",
       "\n",
       "    .dataframe tbody tr th {\n",
       "        vertical-align: top;\n",
       "    }\n",
       "\n",
       "    .dataframe thead th {\n",
       "        text-align: right;\n",
       "    }\n",
       "</style>\n",
       "<table border=\"1\" class=\"dataframe\">\n",
       "  <thead>\n",
       "    <tr style=\"text-align: right;\">\n",
       "      <th></th>\n",
       "      <th>Id</th>\n",
       "      <th>SepalLengthCm</th>\n",
       "      <th>SepalWidthCm</th>\n",
       "      <th>PetalLengthCm</th>\n",
       "      <th>PetalWidthCm</th>\n",
       "      <th>Species</th>\n",
       "    </tr>\n",
       "  </thead>\n",
       "  <tbody>\n",
       "    <tr>\n",
       "      <th>0</th>\n",
       "      <td>1</td>\n",
       "      <td>5.1</td>\n",
       "      <td>3.5</td>\n",
       "      <td>1.4</td>\n",
       "      <td>0.2</td>\n",
       "      <td>Iris-setosa</td>\n",
       "    </tr>\n",
       "    <tr>\n",
       "      <th>1</th>\n",
       "      <td>2</td>\n",
       "      <td>4.9</td>\n",
       "      <td>3.0</td>\n",
       "      <td>1.4</td>\n",
       "      <td>0.2</td>\n",
       "      <td>Iris-setosa</td>\n",
       "    </tr>\n",
       "    <tr>\n",
       "      <th>2</th>\n",
       "      <td>3</td>\n",
       "      <td>4.7</td>\n",
       "      <td>3.2</td>\n",
       "      <td>1.3</td>\n",
       "      <td>0.2</td>\n",
       "      <td>Iris-setosa</td>\n",
       "    </tr>\n",
       "    <tr>\n",
       "      <th>3</th>\n",
       "      <td>4</td>\n",
       "      <td>4.6</td>\n",
       "      <td>3.1</td>\n",
       "      <td>1.5</td>\n",
       "      <td>0.2</td>\n",
       "      <td>Iris-setosa</td>\n",
       "    </tr>\n",
       "    <tr>\n",
       "      <th>4</th>\n",
       "      <td>5</td>\n",
       "      <td>5.0</td>\n",
       "      <td>3.6</td>\n",
       "      <td>1.4</td>\n",
       "      <td>0.2</td>\n",
       "      <td>Iris-setosa</td>\n",
       "    </tr>\n",
       "  </tbody>\n",
       "</table>\n",
       "</div>"
      ],
      "text/plain": [
       "   Id  SepalLengthCm  SepalWidthCm  PetalLengthCm  PetalWidthCm      Species\n",
       "0   1            5.1           3.5            1.4           0.2  Iris-setosa\n",
       "1   2            4.9           3.0            1.4           0.2  Iris-setosa\n",
       "2   3            4.7           3.2            1.3           0.2  Iris-setosa\n",
       "3   4            4.6           3.1            1.5           0.2  Iris-setosa\n",
       "4   5            5.0           3.6            1.4           0.2  Iris-setosa"
      ]
     },
     "execution_count": 2,
     "metadata": {},
     "output_type": "execute_result"
    }
   ],
   "source": [
    "file = \"Iris.csv\"\n",
    "myData = pandas.read_csv(file)\n",
    "print(\"Dataframe Created.\")\n",
    "myData.head()"
   ]
  },
  {
   "cell_type": "markdown",
   "id": "a620ca64",
   "metadata": {},
   "source": [
    "\"Iris.csv\" file must be uploaded on the jupyter notebook before executing this. using pandas.read_csv(file) the dataframe will be created. myData.head() will print first five records of the dataframe along with the column headings."
   ]
  },
  {
   "cell_type": "markdown",
   "id": "271c65ea",
   "metadata": {},
   "source": [
    "# Step 3: Finding the Optimal Number of Clusters."
   ]
  },
  {
   "cell_type": "code",
   "execution_count": 3,
   "id": "9b7b2d11",
   "metadata": {},
   "outputs": [
    {
     "name": "stderr",
     "output_type": "stream",
     "text": [
      "C:\\Anaconda\\lib\\site-packages\\sklearn\\cluster\\_kmeans.py:1036: UserWarning: KMeans is known to have a memory leak on Windows with MKL, when there are less chunks than available threads. You can avoid it by setting the environment variable OMP_NUM_THREADS=1.\n",
      "  warnings.warn(\n"
     ]
    },
    {
     "data": {
      "image/png": "[encoded data removed]",
      "text/plain": [
       "<Figure size 432x288 with 1 Axes>"
      ]
     },
     "metadata": {
      "needs_background": "light"
     },
     "output_type": "display_data"
    }
   ],
   "source": [
    "x = myData.iloc[:, [1, 2, 3, 4]].values\n",
    "\n",
    "# All the records of columns 1, 2, 3, and 4 will be stored in x.\n",
    "\n",
    "from sklearn.cluster import KMeans\n",
    "within_cluster_sum_of_squares = []\n",
    "\n",
    "for i in range(1, 11):\n",
    "    kmeans = KMeans(n_clusters = i, init = 'k-means++', max_iter = 300, n_init = 10, random_state = 0)\n",
    "    kmeans.fit(x)\n",
    "    within_cluster_sum_of_squares.append(kmeans.inertia_)\n",
    "    \n",
    "# n_clusters = Number of Clusters.\n",
    "# init = Selects Initial Cluster Centroids.\n",
    "# max_iter = maximum iterations to be performed.\n",
    "# n_init = Number of Centroids.\n",
    "# random state zero.\n",
    "\n",
    "# Representing the results in visual form.\n",
    "\n",
    "matplotlib.pyplot.plot(range(1, 11), within_cluster_sum_of_squares)\n",
    "matplotlib.pyplot.title(\"The Elbow Method\")\n",
    "matplotlib.pyplot.xlabel(\"Number of Clusters\")\n",
    "matplotlib.pyplot.ylabel(\"Within Cluster Sum of Squares\")\n",
    "matplotlib.pyplot.show()"
   ]
  },
  {
   "cell_type": "markdown",
   "id": "67e1c5c8",
   "metadata": {},
   "source": [
    "This method of finding the optimal number of clusters is called as elbow method because where ever the elbow occurs in the graph that will be considered as optimal number od clusters. Here in this senario the optimal numbers of clusters is equal to 3."
   ]
  },
  {
   "cell_type": "markdown",
   "id": "b838dc3f",
   "metadata": {},
   "source": [
    "# Step 4: Creating KMeans Classifier."
   ]
  },
  {
   "cell_type": "code",
   "execution_count": 4,
   "id": "7af1fc3b",
   "metadata": {},
   "outputs": [],
   "source": [
    "kmeans = KMeans(n_clusters = 3, init = 'k-means++', max_iter = 300, n_init = 10, random_state = 0)\n",
    "y = kmeans.fit_predict(x)\n",
    "\n",
    "# fit_predict() label's the centroids once the clusters are fixed."
   ]
  },
  {
   "cell_type": "markdown",
   "id": "d8ee11fb",
   "metadata": {},
   "source": [
    "# Step 5: Visualizing the Clusters."
   ]
  },
  {
   "cell_type": "code",
   "execution_count": 17,
   "id": "03329381",
   "metadata": {},
   "outputs": [
    {
     "data": {
      "text/plain": [
       "<matplotlib.legend.Legend at 0x1c9e1ebd370>"
      ]
     },
     "execution_count": 17,
     "metadata": {},
     "output_type": "execute_result"
    },
    {
     "data": {
      "image/png": "[encoded data removed]",
      "text/plain": [
       "<Figure size 432x288 with 1 Axes>"
      ]
     },
     "metadata": {
      "needs_background": "light"
     },
     "output_type": "display_data"
    }
   ],
   "source": [
    "# Visualizing the clusters\n",
    "\n",
    "matplotlib.pyplot.scatter(x[y==0,0], x[y==0,1], s = 100, alpha = 0.5, c = 'blue', label = 'Iris-setosa')\n",
    "matplotlib.pyplot.scatter(x[y==1,0], x[y==1,1], s = 100, alpha = 0.5, c = 'green', label = 'Iris-versicolor')\n",
    "matplotlib.pyplot.scatter(x[y==2,0], x[y==2,1], s = 100, alpha = 0.5, c = 'red', label = 'Iris-virginica')\n",
    "# Representing the clusters\n",
    "\n",
    "matplotlib.pyplot.scatter(kmeans.cluster_centers_[:, 0], kmeans.cluster_centers_[:, 1], s = 100, c = 'yellow', label = 'Centroids')\n",
    "\n",
    "matplotlib.pyplot.legend()"
   ]
  }
 ],
 "metadata": {
  "kernelspec": {
   "display_name": "Python 3 (ipykernel)",
   "language": "python",
   "name": "python3"
  },
  "language_info": {
   "codemirror_mode": {
    "name": "ipython",
    "version": 3
   },
   "file_extension": ".py",
   "mimetype": "text/x-python",
   "name": "python",
   "nbconvert_exporter": "python",
   "pygments_lexer": "ipython3",
   "version": "3.9.12"
  }
 },
 "nbformat": 4,
 "nbformat_minor": 5
}
